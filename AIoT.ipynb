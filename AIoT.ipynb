{
 "cells": [
  {
   "cell_type": "markdown",
   "id": "615f64e3-30e5-406f-b377-23a9c72593f2",
   "metadata": {},
   "source": [
    "## Libraries"
   ]
  },
  {
   "cell_type": "code",
   "execution_count": 511,
   "id": "2e307167-13cd-46dc-9fb0-a1bfb5dd9c4e",
   "metadata": {},
   "outputs": [],
   "source": [
    "import pandas as pd\n",
    "from matplotlib import pyplot as plt\n",
    "import numpy as np\n",
    "from statsmodels.tsa.seasonal import seasonal_decompose\n",
    "import warnings\n",
    "import struct\n",
    "import math\n",
    "import datetime\n",
    "import sys\n",
    "import struct"
   ]
  },
  {
   "cell_type": "markdown",
   "id": "5a98b645-83c0-4912-b00e-01a8c26747b5",
   "metadata": {
    "jp-MarkdownHeadingCollapsed": true
   },
   "source": [
    "## Data"
   ]
  },
  {
   "cell_type": "code",
   "execution_count": 515,
   "id": "2029adb9-c8dc-4495-a738-84c9ef8c7c31",
   "metadata": {},
   "outputs": [
    {
     "name": "stdout",
     "output_type": "stream",
     "text": [
      "<class 'pandas.core.frame.DataFrame'>\n",
      "RangeIndex: 500 entries, 0 to 499\n",
      "Data columns (total 5 columns):\n",
      " #   Column    Non-Null Count  Dtype\n",
      "---  ------    --------------  -----\n",
      " 0   sensor_1  500 non-null    int64\n",
      " 1   sensor_2  500 non-null    int64\n",
      " 2   sensor_3  500 non-null    int64\n",
      " 3   sensor_4  500 non-null    int64\n",
      " 4   sensor_5  500 non-null    int64\n",
      "dtypes: int64(5)\n",
      "memory usage: 19.7 KB\n"
     ]
    }
   ],
   "source": [
    "occup = pd.read_csv('occupancy_6005.csv', parse_dates=[0], index_col=[0])# данные заполненности дорог\n",
    "df.info()"
   ]
  },
  {
   "cell_type": "code",
   "execution_count": 516,
   "id": "82dd6174-45f7-469e-b1e6-f582474c1f37",
   "metadata": {},
   "outputs": [
    {
     "data": {
      "text/html": [
       "<div>\n",
       "<style scoped>\n",
       "    .dataframe tbody tr th:only-of-type {\n",
       "        vertical-align: middle;\n",
       "    }\n",
       "\n",
       "    .dataframe tbody tr th {\n",
       "        vertical-align: top;\n",
       "    }\n",
       "\n",
       "    .dataframe thead th {\n",
       "        text-align: right;\n",
       "    }\n",
       "</style>\n",
       "<table border=\"1\" class=\"dataframe\">\n",
       "  <thead>\n",
       "    <tr style=\"text-align: right;\">\n",
       "      <th></th>\n",
       "      <th>value</th>\n",
       "    </tr>\n",
       "    <tr>\n",
       "      <th>timestamp</th>\n",
       "      <th></th>\n",
       "    </tr>\n",
       "  </thead>\n",
       "  <tbody>\n",
       "    <tr>\n",
       "      <th>2015-09-01 13:45:00</th>\n",
       "      <td>3.06</td>\n",
       "    </tr>\n",
       "    <tr>\n",
       "      <th>2015-09-01 13:50:00</th>\n",
       "      <td>6.44</td>\n",
       "    </tr>\n",
       "    <tr>\n",
       "      <th>2015-09-01 13:55:00</th>\n",
       "      <td>5.17</td>\n",
       "    </tr>\n",
       "    <tr>\n",
       "      <th>2015-09-01 14:00:00</th>\n",
       "      <td>3.83</td>\n",
       "    </tr>\n",
       "    <tr>\n",
       "      <th>2015-09-01 14:05:00</th>\n",
       "      <td>4.50</td>\n",
       "    </tr>\n",
       "  </tbody>\n",
       "</table>\n",
       "</div>"
      ],
      "text/plain": [
       "                     value\n",
       "timestamp                 \n",
       "2015-09-01 13:45:00   3.06\n",
       "2015-09-01 13:50:00   6.44\n",
       "2015-09-01 13:55:00   5.17\n",
       "2015-09-01 14:00:00   3.83\n",
       "2015-09-01 14:05:00   4.50"
      ]
     },
     "execution_count": 516,
     "metadata": {},
     "output_type": "execute_result"
    }
   ],
   "source": [
    "occup.head()"
   ]
  },
  {
   "cell_type": "code",
   "execution_count": 506,
   "id": "f6ea9f7a-d696-4f85-964c-625b446ae696",
   "metadata": {},
   "outputs": [
    {
     "name": "stdout",
     "output_type": "stream",
     "text": [
      "<class 'pandas.core.frame.DataFrame'>\n",
      "DatetimeIndex: 2500 entries, 2015-08-31 18:22:00 to 2015-09-17 16:24:00\n",
      "Data columns (total 1 columns):\n",
      " #   Column  Non-Null Count  Dtype\n",
      "---  ------  --------------  -----\n",
      " 0   value   2500 non-null   int64\n",
      "dtypes: int64(1)\n",
      "memory usage: 39.1 KB\n"
     ]
    }
   ],
   "source": [
    "speed = pd.read_csv('speed_6005.csv', parse_dates=[0], index_col=[0])# данные скорости\n",
    "speed.info()"
   ]
  },
  {
   "cell_type": "code",
   "execution_count": 507,
   "id": "dbe1c903-3010-46e5-b460-b39d42a34428",
   "metadata": {},
   "outputs": [
    {
     "data": {
      "text/html": [
       "<div>\n",
       "<style scoped>\n",
       "    .dataframe tbody tr th:only-of-type {\n",
       "        vertical-align: middle;\n",
       "    }\n",
       "\n",
       "    .dataframe tbody tr th {\n",
       "        vertical-align: top;\n",
       "    }\n",
       "\n",
       "    .dataframe thead th {\n",
       "        text-align: right;\n",
       "    }\n",
       "</style>\n",
       "<table border=\"1\" class=\"dataframe\">\n",
       "  <thead>\n",
       "    <tr style=\"text-align: right;\">\n",
       "      <th></th>\n",
       "      <th>value</th>\n",
       "    </tr>\n",
       "    <tr>\n",
       "      <th>timestamp</th>\n",
       "      <th></th>\n",
       "    </tr>\n",
       "  </thead>\n",
       "  <tbody>\n",
       "    <tr>\n",
       "      <th>2015-08-31 18:22:00</th>\n",
       "      <td>90</td>\n",
       "    </tr>\n",
       "    <tr>\n",
       "      <th>2015-08-31 18:32:00</th>\n",
       "      <td>80</td>\n",
       "    </tr>\n",
       "    <tr>\n",
       "      <th>2015-08-31 18:57:00</th>\n",
       "      <td>84</td>\n",
       "    </tr>\n",
       "    <tr>\n",
       "      <th>2015-08-31 19:07:00</th>\n",
       "      <td>94</td>\n",
       "    </tr>\n",
       "    <tr>\n",
       "      <th>2015-08-31 19:12:00</th>\n",
       "      <td>90</td>\n",
       "    </tr>\n",
       "  </tbody>\n",
       "</table>\n",
       "</div>"
      ],
      "text/plain": [
       "                     value\n",
       "timestamp                 \n",
       "2015-08-31 18:22:00     90\n",
       "2015-08-31 18:32:00     80\n",
       "2015-08-31 18:57:00     84\n",
       "2015-08-31 19:07:00     94\n",
       "2015-08-31 19:12:00     90"
      ]
     },
     "execution_count": 507,
     "metadata": {},
     "output_type": "execute_result"
    }
   ],
   "source": [
    "speed.head()"
   ]
  },
  {
   "cell_type": "markdown",
   "id": "f844fcc9-e525-40a1-933f-6c94a3943dd8",
   "metadata": {},
   "source": [
    "Подготовим данные для тестирования алгоритма Sprintz. Из одного ряда получим датафрейм с 5 рядами."
   ]
  },
  {
   "cell_type": "code",
   "execution_count": 508,
   "id": "3eff44de-e64c-4887-8240-2891a659aa8c",
   "metadata": {},
   "outputs": [
    {
     "name": "stdout",
     "output_type": "stream",
     "text": [
      "500\n",
      "500\n",
      "500\n",
      "500\n",
      "500\n"
     ]
    }
   ],
   "source": [
    "speed['index'] = np.arange(speed.shape[0])\n",
    "sen_0 = speed.loc[speed['index']%5==0, ['value']]['value'].to_list()\n",
    "sen_1 = speed.loc[speed['index']%5==1, ['value']]['value'].to_list()\n",
    "sen_2 = speed.loc[speed['index']%5==2, ['value']]['value'].to_list()\n",
    "sen_3 = speed.loc[speed['index']%5==3, ['value']]['value'].to_list()\n",
    "sen_4 = speed.loc[speed['index']%5==4, ['value']]['value'].to_list()\n",
    "print(len(sen_0))\n",
    "print(len(sen_1))\n",
    "print(len(sen_2))\n",
    "print(len(sen_3))\n",
    "print(len(sen_4))"
   ]
  },
  {
   "cell_type": "code",
   "execution_count": 509,
   "id": "8c49dc7d-2d6c-4c26-ac95-796d5bcd13e5",
   "metadata": {},
   "outputs": [
    {
     "data": {
      "text/html": [
       "<div>\n",
       "<style scoped>\n",
       "    .dataframe tbody tr th:only-of-type {\n",
       "        vertical-align: middle;\n",
       "    }\n",
       "\n",
       "    .dataframe tbody tr th {\n",
       "        vertical-align: top;\n",
       "    }\n",
       "\n",
       "    .dataframe thead th {\n",
       "        text-align: right;\n",
       "    }\n",
       "</style>\n",
       "<table border=\"1\" class=\"dataframe\">\n",
       "  <thead>\n",
       "    <tr style=\"text-align: right;\">\n",
       "      <th></th>\n",
       "      <th>sensor_1</th>\n",
       "      <th>sensor_2</th>\n",
       "      <th>sensor_3</th>\n",
       "      <th>sensor_4</th>\n",
       "      <th>sensor_5</th>\n",
       "    </tr>\n",
       "  </thead>\n",
       "  <tbody>\n",
       "    <tr>\n",
       "      <th>0</th>\n",
       "      <td>90</td>\n",
       "      <td>80</td>\n",
       "      <td>84</td>\n",
       "      <td>94</td>\n",
       "      <td>90</td>\n",
       "    </tr>\n",
       "    <tr>\n",
       "      <th>1</th>\n",
       "      <td>91</td>\n",
       "      <td>62</td>\n",
       "      <td>96</td>\n",
       "      <td>75</td>\n",
       "      <td>84</td>\n",
       "    </tr>\n",
       "    <tr>\n",
       "      <th>2</th>\n",
       "      <td>86</td>\n",
       "      <td>93</td>\n",
       "      <td>69</td>\n",
       "      <td>88</td>\n",
       "      <td>71</td>\n",
       "    </tr>\n",
       "    <tr>\n",
       "      <th>3</th>\n",
       "      <td>74</td>\n",
       "      <td>68</td>\n",
       "      <td>88</td>\n",
       "      <td>71</td>\n",
       "      <td>87</td>\n",
       "    </tr>\n",
       "    <tr>\n",
       "      <th>4</th>\n",
       "      <td>82</td>\n",
       "      <td>68</td>\n",
       "      <td>73</td>\n",
       "      <td>69</td>\n",
       "      <td>57</td>\n",
       "    </tr>\n",
       "  </tbody>\n",
       "</table>\n",
       "</div>"
      ],
      "text/plain": [
       "   sensor_1  sensor_2  sensor_3  sensor_4  sensor_5\n",
       "0        90        80        84        94        90\n",
       "1        91        62        96        75        84\n",
       "2        86        93        69        88        71\n",
       "3        74        68        88        71        87\n",
       "4        82        68        73        69        57"
      ]
     },
     "execution_count": 509,
     "metadata": {},
     "output_type": "execute_result"
    }
   ],
   "source": [
    "df = pd.DataFrame({'sensor_1': sen_0, 'sensor_2': sen_1, 'sensor_3': sen_2, 'sensor_4': sen_3, 'sensor_5': sen_4})\n",
    "df.head()"
   ]
  },
  {
   "cell_type": "code",
   "execution_count": 510,
   "id": "c204fb59-54be-4653-aefe-cdb3666f0a39",
   "metadata": {},
   "outputs": [
    {
     "name": "stdout",
     "output_type": "stream",
     "text": [
      "<class 'pandas.core.frame.DataFrame'>\n",
      "RangeIndex: 500 entries, 0 to 499\n",
      "Data columns (total 5 columns):\n",
      " #   Column    Non-Null Count  Dtype\n",
      "---  ------    --------------  -----\n",
      " 0   sensor_1  500 non-null    int64\n",
      " 1   sensor_2  500 non-null    int64\n",
      " 2   sensor_3  500 non-null    int64\n",
      " 3   sensor_4  500 non-null    int64\n",
      " 4   sensor_5  500 non-null    int64\n",
      "dtypes: int64(5)\n",
      "memory usage: 19.7 KB\n"
     ]
    }
   ],
   "source": [
    "df.info()"
   ]
  },
  {
   "cell_type": "markdown",
   "id": "b43266f3-c861-4ba7-93ae-801f000eec1a",
   "metadata": {},
   "source": [
    "## XOR"
   ]
  },
  {
   "cell_type": "code",
   "execution_count": 512,
   "id": "04b98263-becd-45fc-b843-0bfa38b3e606",
   "metadata": {},
   "outputs": [],
   "source": [
    "#Функция получения XOR двух значений\n",
    "def fxor(a, b):\n",
    "    rtrn = []\n",
    "    a = struct.pack('d', a)\n",
    "    b = struct.pack('d', b)\n",
    "    for ba, bb in zip(a, b):\n",
    "        rtrn.append(ba ^ bb)\n",
    "    return bin(int.from_bytes(bytes(rtrn), sys.byteorder))[2:].zfill(64)"
   ]
  },
  {
   "cell_type": "code",
   "execution_count": 513,
   "id": "b77160e1-2974-4f77-8a0a-dfe43fefa112",
   "metadata": {},
   "outputs": [],
   "source": [
    "#Функция представления числа в формате binary-64\n",
    "def binary(num):\n",
    "    num = bytes(struct.pack('d', num))\n",
    "    return bin(int.from_bytes(num, sys.byteorder))[2:].zfill(64)"
   ]
  },
  {
   "cell_type": "code",
   "execution_count": 514,
   "id": "6271ba1b-e3d0-43d2-9141-297460f64a25",
   "metadata": {},
   "outputs": [],
   "source": [
    "def xor_compres(ts):\n",
    "    result = []\n",
    "    s = binary(ts[0])\n",
    "    result.append(s)\n",
    "    off_pred = s.index('1')\n",
    "    len_pred = len(s)-s[::-1].index('1')-1-off_pred\n",
    "    for i in range(1, len(ts)):\n",
    "        xor = fxor(ts[i-1], ts[i])\n",
    "        #print(xor)\n",
    "        try:\n",
    "            off = xor.index('1')#начало ненулевого кода xor\n",
    "        except:\n",
    "            s = '0'\n",
    "            result.append(s)\n",
    "            continue\n",
    "        length = len(xor)-xor[::-1].index('1')-1-off# длина последовательности - 1\n",
    "        if (off<off_pred) or (off+length>off_pred+len_pred) or (i==1):\n",
    "            offset_b = bin(off)[2:]\n",
    "            len_seq_b = bin(length)[2:]\n",
    "            s = '11'+('0'*(5-len(offset_b))+offset_b+'0'*(6-len(len_seq_b))\n",
    "                      +len_seq_b+xor[off:off+length+1])\n",
    "            result.append(s)\n",
    "            off_pred = off\n",
    "            len_pred = length\n",
    "        else:\n",
    "            s = '10'+'0'*(off-off_pred)+xor[off:off+length+1]+'0'*(off_pred+len_pred-length-off)\n",
    "            result.append(s)\n",
    "    return result"
   ]
  },
  {
   "cell_type": "markdown",
   "id": "86b3cc82-118d-4dad-a71b-dd8eddea2bb9",
   "metadata": {},
   "source": [
    "Так как алгоритм для чисел с плавающей точкой, то разделим значения первого датасета на 100, чтобы сделать их по модулю меньше 1."
   ]
  },
  {
   "cell_type": "code",
   "execution_count": 517,
   "id": "874d01f4-a6ab-47ea-9237-99958123ab2c",
   "metadata": {},
   "outputs": [],
   "source": [
    "occup.value = occup.value/100"
   ]
  },
  {
   "cell_type": "code",
   "execution_count": 518,
   "id": "23c2401b-0d94-4207-af57-bb7f16f78885",
   "metadata": {},
   "outputs": [],
   "source": [
    "time_series = list(occup.value.values)\n",
    "res = cor_compres(time_series)"
   ]
  },
  {
   "cell_type": "markdown",
   "id": "ca3e6b6c-cc33-4700-bd6a-a43fb7457979",
   "metadata": {},
   "source": [
    "Вычислим разницу между исходными данными в формате binary-64 и сжатыми данными."
   ]
  },
  {
   "cell_type": "code",
   "execution_count": 520,
   "id": "6e6e3fa1-bc6f-4ed8-ad88-65daed7c0f93",
   "metadata": {},
   "outputs": [
    {
     "name": "stdout",
     "output_type": "stream",
     "text": [
      "Размер передаваемого сообщения(бит): 152320\n",
      "Размер передаваемого сообщения(бит): 148921\n",
      "Разница: 3399\n"
     ]
    }
   ],
   "source": [
    "storage = 0\n",
    "init_storage = 0\n",
    "for t in time_series:\n",
    "    init_storage+=len(binary(t))\n",
    "print('Размер передаваемого сообщения(бит):', init_storage)\n",
    "for r in res:\n",
    "    storage+=len(r)\n",
    "print('Размер передаваемого сообщения(бит):', storage)\n",
    "print('Разница:',init_storage-storage) "
   ]
  },
  {
   "cell_type": "markdown",
   "id": "e53a7d9f-fde7-419b-88d0-801d5087bbe9",
   "metadata": {},
   "source": [
    "## Timestamp delta of delta"
   ]
  },
  {
   "cell_type": "code",
   "execution_count": 524,
   "id": "167b4e53-ec61-4a60-8bae-500970bb3830",
   "metadata": {},
   "outputs": [
    {
     "data": {
      "text/plain": [
       "[Timestamp('2015-09-01 13:45:00'),\n",
       " Timestamp('2015-09-01 13:50:00'),\n",
       " Timestamp('2015-09-01 13:55:00'),\n",
       " Timestamp('2015-09-01 14:00:00'),\n",
       " Timestamp('2015-09-01 14:05:00'),\n",
       " Timestamp('2015-09-01 14:20:00')]"
      ]
     },
     "execution_count": 524,
     "metadata": {},
     "output_type": "execute_result"
    }
   ],
   "source": [
    "occup.index[:6].to_list()"
   ]
  },
  {
   "cell_type": "code",
   "execution_count": 522,
   "id": "b67304bd-81eb-4368-bb03-a0a39458566e",
   "metadata": {},
   "outputs": [],
   "source": [
    "#delta_of_delta = -256\n",
    "def delta_of_delta_timestamp(a, b, c):\n",
    "    delta_of_delta = int((c - b).total_seconds() - (b - a).total_seconds())\n",
    "    if delta_of_delta==0:\n",
    "        s = '0'\n",
    "    else:\n",
    "        delta_b =  bin(abs(delta_of_delta))[2:]\n",
    "        sgn = '1' if delta_of_delta<0 else '0'\n",
    "        if -63<=delta_of_delta<=64:\n",
    "            if delta_of_delta==64:\n",
    "                s = '10' + delta_b\n",
    "            else:\n",
    "                s = '10' + sgn + '0'*(7-len(delta_b)-1) + delta_b\n",
    "        elif -255<=delta_of_delta<=256:\n",
    "            if delta_of_delta==256:\n",
    "                s = '110' + delta_b\n",
    "            else:\n",
    "                s = '110' + sgn + '0'*(9-len(delta_b)-1) + delta_b\n",
    "        elif -2047<=delta_of_delta<=2048:\n",
    "            if delta_of_delta==2048:\n",
    "                s = '1110' + delta_b\n",
    "            else:\n",
    "                s = '1110' + sgn + '0'*(12-len(delta_b)-1) + delta_b\n",
    "        else:\n",
    "            s = '1111' + sgn + '0'*(32-len(delta_b)-1) + delta_b\n",
    "    return s"
   ]
  },
  {
   "cell_type": "code",
   "execution_count": 528,
   "id": "e4b2effb-5587-42d8-9233-9e6d03326435",
   "metadata": {},
   "outputs": [],
   "source": [
    "def time_compress(t):\n",
    "    res = []\n",
    "    t1 = t[0]\n",
    "    t2 = t[1]\n",
    "    for i in range(2, len(t)):\n",
    "        t3 = t[i]\n",
    "        res.append(delta_of_delta_timestamp(t1, t2, t3))\n",
    "        t1 = t[i-1]\n",
    "        t2 = t[i]\n",
    "    return res"
   ]
  },
  {
   "cell_type": "code",
   "execution_count": 529,
   "id": "2cfc36ac-4a51-4c77-bbc7-0924f028542c",
   "metadata": {},
   "outputs": [
    {
     "data": {
      "text/plain": [
       "['0', '0', '0', '1110001001011000']"
      ]
     },
     "execution_count": 529,
     "metadata": {},
     "output_type": "execute_result"
    }
   ],
   "source": [
    "t = occup.index[:6].to_list()\n",
    "time_compress(t)"
   ]
  },
  {
   "cell_type": "markdown",
   "id": "a834f9a9-54d2-4c67-85b2-89d4d0a94194",
   "metadata": {},
   "source": [
    "## Spritz"
   ]
  },
  {
   "cell_type": "code",
   "execution_count": 480,
   "id": "c175df1b-4a00-46d7-b44a-ea400b185268",
   "metadata": {},
   "outputs": [],
   "source": [
    "def delta_coding(df):\n",
    "    delta = []\n",
    "    for i in range(1, df.shape[0]):\n",
    "        delta.append((df.iloc[i]-df.iloc[i-1]).to_list())\n",
    "    return pd.DataFrame(delta)"
   ]
  },
  {
   "cell_type": "code",
   "execution_count": 481,
   "id": "87c87390-3e2d-42c3-937a-cd27bf01611c",
   "metadata": {},
   "outputs": [],
   "source": [
    "def zigzag_coding(df):\n",
    "    res = []\n",
    "    for i in range(df.shape[0]):\n",
    "        raw = []\n",
    "        for j in (df.columns):\n",
    "            val = df.iloc[i][j]\n",
    "            if val<0:\n",
    "                raw.append(abs(val)*2-1)\n",
    "            else:\n",
    "                raw.append(val*2)\n",
    "        res.append(raw)\n",
    "    return res"
   ]
  },
  {
   "cell_type": "code",
   "execution_count": 500,
   "id": "88753e73-83bb-4c27-8cdf-5ee90b34531b",
   "metadata": {},
   "outputs": [],
   "source": [
    "def sprintz(df):\n",
    "    enc = [df.iloc[0].to_list()]\n",
    "    delta = delta_coding(df)\n",
    "    zigzag = zigzag_coding(delta)\n",
    "    max_val = list(map(max, zip(*zigzag)))\n",
    "    max_val = [format(m, '08b') for m in max_val]\n",
    "    max_len = [8-(m.find('1')) if '1' in m else 0 for m in max_val]\n",
    "    header = ''.join([format(m, '03b') for m in max_len])\n",
    "    zigzag = [list(row) for row in zip(*zigzag)] #transpose\n",
    "    bin = ''\n",
    "    for i in range(len(zigzag)):\n",
    "        bits = max_len[i]\n",
    "        if bits==0:\n",
    "            continue\n",
    "        for v in zigzag[i]:\n",
    "            bin+=format(v, f'0{bits}b')\n",
    "    enc.append(header+'0'*(16-len(header))+bin)\n",
    "    return enc"
   ]
  },
  {
   "cell_type": "code",
   "execution_count": 501,
   "id": "f39d5204-959d-460d-adb6-e4612f7a6eb7",
   "metadata": {},
   "outputs": [],
   "source": [
    "def sprintz_encode(df):\n",
    "    res = []\n",
    "    chunk_size = 8\n",
    "    for i in range(0, len(df), chunk_size):\n",
    "        chunk_df = df.iloc[i:i+chunk_size]\n",
    "        res.append(spritz(chunk_df))\n",
    "    return res"
   ]
  },
  {
   "cell_type": "code",
   "execution_count": 531,
   "id": "0986d770-4ee9-48a3-9c1e-33dfe38a2e92",
   "metadata": {},
   "outputs": [
    {
     "name": "stdout",
     "output_type": "stream",
     "text": [
      "Объем сжатых данных(бит): 13271\n"
     ]
    }
   ],
   "source": [
    "res = sprintz_encode(df)\n",
    "infb = 0\n",
    "for r in res:\n",
    "    infb+=len(r)\n",
    "print('Объем сжатых данных(бит):', infb)"
   ]
  }
 ],
 "metadata": {
  "kernelspec": {
   "display_name": "Python 3 (ipykernel)",
   "language": "python",
   "name": "python3"
  },
  "language_info": {
   "codemirror_mode": {
    "name": "ipython",
    "version": 3
   },
   "file_extension": ".py",
   "mimetype": "text/x-python",
   "name": "python",
   "nbconvert_exporter": "python",
   "pygments_lexer": "ipython3",
   "version": "3.11.7"
  }
 },
 "nbformat": 4,
 "nbformat_minor": 5
}
